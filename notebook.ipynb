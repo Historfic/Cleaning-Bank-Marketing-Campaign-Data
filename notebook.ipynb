{
 "cells": [
  {
   "cell_type": "code",
   "execution_count": 1,
   "metadata": {},
   "outputs": [],
   "source": [
    "import pandas as pd\n",
    "import numpy as np\n",
    "\n",
    "# Start coding here...\n",
    "\n",
    "df = pd.read_csv('data/bank_marketing.csv')\n",
    "\n",
    "\n",
    "df = df.dropna()\n"
   ]
  },
  {
   "cell_type": "markdown",
   "metadata": {},
   "source": [
    "## Client DataFrame"
   ]
  },
  {
   "cell_type": "code",
   "execution_count": 2,
   "metadata": {},
   "outputs": [],
   "source": [
    "\n",
    "client_columns = ['client_id', 'age', 'job', 'marital', 'education', 'credit_default', 'mortgage']\n",
    "client = df[client_columns].copy()\n",
    "\n",
    "#Convert\n",
    "\n",
    "client['job'] = client['job'].str.replace('.', '_')\n",
    "client['education'] = client['job'].str.replace('.', '_').replace(\"unknown\", np.NaN)\n",
    "client['credit_default'] = client['credit_default'].apply(lambda x: True if x == 'yes' else False)\n",
    "client['mortgage'] = client['mortgage'].apply(lambda x: True if x == 'yes' else False)\n",
    "\n",
    "client.to_csv(\"data/client.csv\", index=False)\n"
   ]
  },
  {
   "cell_type": "markdown",
   "metadata": {},
   "source": [
    "## Campaign DataFrame"
   ]
  },
  {
   "cell_type": "code",
   "execution_count": 3,
   "metadata": {},
   "outputs": [],
   "source": [
    "\n",
    "campaign_columns = [\"client_id\",\n",
    "               \"number_contacts\",\n",
    "               \"contact_duration\",\n",
    "               \"previous_campaign_contacts\",\n",
    "               \"previous_outcome\",\n",
    "               \"campaign_outcome\"]\n",
    "campaign = df[campaign_columns].copy()\n",
    "\n",
    "\n",
    "# Convert the previous_outcome and campaign_outcome to Boolean\n",
    "campaign['previous_outcome'] = campaign['previous_outcome'].apply(lambda x: True if x == 'success' else False)\n",
    "campaign['campaign_outcome'] = campaign['campaign_outcome'].apply(lambda x: True if x == 'yes' else False)\n",
    "\n",
    "# Create a Month Mapping using dictionary for keys and values\n",
    "month_mapping = {'jan': 1, 'feb': 2, 'mar': 3, 'apr': 4, 'may': 5, 'jun': 6, 'jul': 7, 'aug': 8, 'sep': 9, 'oct': 10, 'nov': 11, 'dec': 12}\n",
    "\n",
    "\n",
    "df['year'] = 2022\n",
    "\n",
    "df['month'] = df['month'].map(month_mapping)\n",
    "\n",
    "df['date_str'] = df['year'].astype(str) + '-' + df['month'].astype(str) + '-' + df['day'].astype(str)\n",
    "\n",
    "campaign['last_contact_date'] = pd.to_datetime(df['date_str'], format='%Y-%m-%d')\n",
    "\n",
    "#campaign.to_csv(\"data/campaign.csv\", index=False)\n"
   ]
  },
  {
   "cell_type": "markdown",
   "metadata": {},
   "source": [
    "## Economics DataFrame"
   ]
  },
  {
   "cell_type": "code",
   "execution_count": 4,
   "metadata": {},
   "outputs": [],
   "source": [
    "\n",
    "\n",
    "economics_columns = ['client_id', 'cons_price_idx', 'euribor_three_months']\n",
    "\n",
    "economics = df[economics_columns].copy()\n",
    "\n",
    "economics.to_csv(\"data/economics.csv\", index=False)"
   ]
  }
 ],
 "metadata": {
  "kernelspec": {
   "display_name": "Python 3",
   "language": "python",
   "name": "python3"
  },
  "language_info": {
   "codemirror_mode": {
    "name": "ipython",
    "version": 3
   },
   "file_extension": ".py",
   "mimetype": "text/x-python",
   "name": "python",
   "nbconvert_exporter": "python",
   "pygments_lexer": "ipython3",
   "version": "3.12.4"
  }
 },
 "nbformat": 4,
 "nbformat_minor": 2
}
